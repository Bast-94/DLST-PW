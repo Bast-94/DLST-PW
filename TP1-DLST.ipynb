{
  "nbformat": 4,
  "nbformat_minor": 0,
  "metadata": {
    "colab": {
      "provenance": [],
      "include_colab_link": true
    },
    "kernelspec": {
      "name": "python3",
      "display_name": "Python 3"
    },
    "language_info": {
      "name": "python"
    }
  },
  "cells": [
    {
      "cell_type": "markdown",
      "metadata": {
        "id": "view-in-github",
        "colab_type": "text"
      },
      "source": [
        "<a href=\"https://colab.research.google.com/github/Bast-94/DLST-PW/blob/main/TP1-DLST.ipynb\" target=\"_parent\"><img src=\"https://colab.research.google.com/assets/colab-badge.svg\" alt=\"Open In Colab\"/></a>"
      ]
    },
    {
      "cell_type": "code",
      "metadata": {
        "id": "TlHkdZpt1FQa"
      },
      "source": [
        "import copy\n",
        "import numpy as np\n",
        "from tqdm import tqdm"
      ],
      "execution_count": null,
      "outputs": []
    },
    {
      "cell_type": "code",
      "metadata": {
        "id": "lFDgVPco1NRC"
      },
      "source": [
        "def sigmoid(x):\n",
        "    \"\"\"\n",
        "    Le calcul de la fonction sigmoid.\n",
        "    \"\"\"\n",
        "    pass\n",
        "\n",
        "\n",
        "def d_sigmoid(x):\n",
        "    \"\"\"\n",
        "    Le calcul de la dérivée de la fonction sigmoid.\n",
        "    \"\"\"\n",
        "    pass\n",
        "\n",
        "\n",
        "def d_sigmoid_easy(x):\n",
        "    \"\"\"\n",
        "    Une variation de la dérivée de la sigmoid, pour simplifier certains calcul\n",
        "    lors de la rétropropagation.\n",
        "    \"\"\"\n",
        "    return x * (1 - x)"
      ],
      "execution_count": null,
      "outputs": []
    },
    {
      "cell_type": "code",
      "metadata": {
        "id": "d9f91RZm1VEK"
      },
      "source": [
        "def generate_dataset(d):\n",
        "    \"\"\"\n",
        "    Génère le jeu de données au format dictionnaire :\n",
        "    clef = nombre entier\n",
        "    valeur = tableau binaire correspondant (big endian)\n",
        "\n",
        "    :param d: the dimension of one bits string\n",
        "    :return: the dataset\n",
        "    \"\"\"\n",
        "    dataset = {}\n",
        "    largest_number = pow(2, d)\n",
        "    binary = np.unpackbits(np.array([range(largest_number)], dtype=np.uint8).T, axis=1)\n",
        "    for i, b in enumerate(binary):\n",
        "        dataset[i] = b\n",
        "    return dataset\n",
        "\n",
        "\n",
        "def get_sample(dataset):\n",
        "    \"\"\"\n",
        "    Sélectionne deux nombres a et b dans l'ensemble de données et calcule la somme c.\n",
        "    Si la somme est inférieure au nombre le plus grand du dictionnaire, renvoie :\n",
        "    le tableau de bits de a, le tableau de bits de b, le tableau de bits de c\n",
        "    -> dataset[a], dataset[b], dataset[c]\n",
        "    \"\"\"\n",
        "    pass"
      ],
      "execution_count": null,
      "outputs": []
    },
    {
      "cell_type": "code",
      "metadata": {
        "id": "_-v4NoWi1Z95"
      },
      "source": [
        "def init_nn(inp_dim, hid_dim, out_dim):\n",
        "    \"\"\"\n",
        "    Initialise les paramètres du réseaux : wi, wh, wo ainsi que les tenseurs\n",
        "    des mêmes tailles qui serviront pour les mettre à jour.\n",
        "\n",
        "    wi, wh, wo sont initialisés aléatoirement suivant une loi uniforme allant\n",
        "    de -1 à 1.\n",
        "\n",
        "    Utiliser la fonction numpy.random.random.\n",
        "\n",
        "    wi_update, wh_update, wo_update ont la même taille que wi, wh et wo\n",
        "    respectivement mais ne contiennent à l'initialisation que des 0.\n",
        "\n",
        "    Utiliser soit :\n",
        "    - np.zeros -> prend une taille en argument\n",
        "    - np.zeros_like -> prend un tenseur en argument\n",
        "\n",
        "    :param inp_dim: dimension de l'entrée\n",
        "    :param hid_dim: dimension de la couche cachée\n",
        "    :param out_dim: dimension de la sortie\n",
        "    :return: les paramètres\n",
        "    \"\"\"\n",
        "    wi_layer = None\n",
        "    wh_layer = None\n",
        "    wo_layer = None\n",
        "    return wi_layer, wh_layer, wo_layer"
      ],
      "execution_count": null,
      "outputs": []
    },
    {
      "cell_type": "code",
      "metadata": {
        "id": "F9wZOlJa1dDO"
      },
      "source": [
        "def train(wi, wh, wo iterations, dataset):\n",
        "    for i in range(iterations):\n",
        "        a, b, c = get_sample(dataset)\n",
        "        d = np.zeros_like(c)  # stores our successive predictions\n",
        "        error = 0\n",
        "        o_deltas = list()  # stores gradient of error relative to ot\n",
        "        ht_values = list()  # stores values of hidden states\n",
        "        ht_values.append(np.zeros((1, hidden_dimension)))\n",
        "        for pos in range(number_bits):\n",
        "            \"\"\"\n",
        "            1. On récupère les premiers bits de a et de b -> devient notre x\n",
        "            2. On récupère le premier bit de c -> devient notre y\n",
        "\n",
        "            Attention à l'endianess, on commence par la fin du tableau.\n",
        "            \"\"\"\n",
        "\n",
        "            \"\"\"\n",
        "            1. On calcule at\n",
        "            2. On calcule ht\n",
        "            3. On calcule ot\n",
        "            4. On calcule yt (prédiction)\n",
        "            5. On calcule l'erreur de prédiction\n",
        "            6. On calcule delta L / delta ot et on l'ajoute à la liste o_deltas\n",
        "            7. On conserve la prédiction du réseau dans un vecteur pour comparer\n",
        "               avec la sortie attendue (np.round(prediction))\n",
        "            8. On ajoute ht dans la liste ht_values\n",
        "            \"\"\"\n",
        "\n",
        "        future_ht_delta = np.zeros_like(ht_values[-1])  # stores delta L / delta ht+1, necessary when computing delta L / delta ht+1\n",
        "        future_ht = np.zeros_like(ht_values[-1])  # stores ht+1, 0 when we are at last t\n",
        "        for pos in range(number_bits):\n",
        "            \"\"\"\n",
        "            1. On récupère le x en partant de la fin de la séquence (le premier bit)\n",
        "            2. On récupère la valeur de son état caché ht dans la liste\n",
        "            3. On récupère la valeur de l'état caché précédent dans la liste ht-1\n",
        "            4. On récupère la valeur de delta L / delta ot dans la liste\n",
        "            5. On calcule ht_delta (delta L / delta ht) -> partie la plus complexe\n",
        "            6. On calcule wo_update, wh_update, wi_update (gradients pour wo, wh, wi)\n",
        "            \"\"\"\n",
        "\n",
        "        \"\"\"\n",
        "        1. On met à jour wi\n",
        "        2. On met à jour wh\n",
        "        3. On met à jour wo\n",
        "        4. On remet à 0 wi_update\n",
        "        5. On remet à 0 wh_update\n",
        "        6. On remet à 0 wo_update\n",
        "        \"\"\"\n",
        "\n",
        "        if i % 1000 == 0:\n",
        "            print(f\"[{i}|{iterations}] Error: {error}\")\n",
        "            print(f\"\\tTrue: {a} + {b} = {c}\")\n",
        "            print(f\"\\tPred: {d}\")"
      ],
      "execution_count": null,
      "outputs": []
    },
    {
      "cell_type": "code",
      "metadata": {
        "id": "IOcPbIp-1ewF"
      },
      "source": [
        "alpha = 0.1\n",
        "input_dimension = 2\n",
        "hidden_dimension = 16\n",
        "output_dimension = 1\n",
        "number_bits = 8\n",
        "data = generate_dataset(number_bits)\n",
        "nn = init_nn(input_dimension, hidden_dimension, output_dimension)\n",
        "train(*nn, 10000, data)"
      ],
      "execution_count": null,
      "outputs": []
    },
    {
      "cell_type": "code",
      "metadata": {
        "id": "AwG2MaNh10la"
      },
      "source": [],
      "execution_count": null,
      "outputs": []
    }
  ]
}